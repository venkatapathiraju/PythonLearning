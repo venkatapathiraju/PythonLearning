{
 "cells": [
  {
   "cell_type": "code",
   "execution_count": 23,
   "id": "033e6339",
   "metadata": {},
   "outputs": [],
   "source": [
    "my_dict = { \"venki\" : \"cpp\",\n",
    "           \"raja\" : \"cpp\",\n",
    "           \"sumit\" : \"java\"\n",
    "          }"
   ]
  },
  {
   "cell_type": "code",
   "execution_count": 24,
   "id": "d59be080",
   "metadata": {},
   "outputs": [
    {
     "name": "stdout",
     "output_type": "stream",
     "text": [
      "{'venki': 'cpp', 'raja': 'cpp', 'sumit': 'java'}\n"
     ]
    }
   ],
   "source": [
    "print(my_dict)"
   ]
  },
  {
   "cell_type": "code",
   "execution_count": 40,
   "id": "4f150173",
   "metadata": {},
   "outputs": [
    {
     "name": "stdout",
     "output_type": "stream",
     "text": [
      "venki,cpp basfsf\n",
      "raja,cpp basfsf\n",
      "sumit,java basfsf\n"
     ]
    }
   ],
   "source": [
    "for key,value in my_dict.items() :\n",
    "    print (f\"{key},{value} basfsf\")"
   ]
  },
  {
   "cell_type": "code",
   "execution_count": null,
   "id": "c6da9ede",
   "metadata": {},
   "outputs": [],
   "source": []
  }
 ],
 "metadata": {
  "kernelspec": {
   "display_name": "Python 3",
   "language": "python",
   "name": "python3"
  },
  "language_info": {
   "codemirror_mode": {
    "name": "ipython",
    "version": 3
   },
   "file_extension": ".py",
   "mimetype": "text/x-python",
   "name": "python",
   "nbconvert_exporter": "python",
   "pygments_lexer": "ipython3",
   "version": "3.8.8"
  }
 },
 "nbformat": 4,
 "nbformat_minor": 5
}
